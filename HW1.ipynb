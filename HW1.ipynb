{
 "cells": [
  {
   "cell_type": "code",
   "execution_count": 2,
   "id": "00d7c35a",
   "metadata": {},
   "outputs": [],
   "source": [
    "#import libraries\n",
    "import pandas as pd\n",
    "import matplotlib.pyplot as plt\n",
    "import numpy as np"
   ]
  },
  {
   "cell_type": "code",
   "execution_count": 3,
   "id": "5e6355c3",
   "metadata": {},
   "outputs": [
    {
     "data": {
      "text/html": [
       "<div>\n",
       "<style scoped>\n",
       "    .dataframe tbody tr th:only-of-type {\n",
       "        vertical-align: middle;\n",
       "    }\n",
       "\n",
       "    .dataframe tbody tr th {\n",
       "        vertical-align: top;\n",
       "    }\n",
       "\n",
       "    .dataframe thead th {\n",
       "        text-align: right;\n",
       "    }\n",
       "</style>\n",
       "<table border=\"1\" class=\"dataframe\">\n",
       "  <thead>\n",
       "    <tr style=\"text-align: right;\">\n",
       "      <th></th>\n",
       "      <th>Year</th>\n",
       "      <th>Ja</th>\n",
       "      <th>F</th>\n",
       "      <th>M</th>\n",
       "      <th>Ap</th>\n",
       "      <th>Ma</th>\n",
       "      <th>Jun</th>\n",
       "      <th>Jul</th>\n",
       "      <th>Au</th>\n",
       "      <th>S</th>\n",
       "      <th>O</th>\n",
       "      <th>N</th>\n",
       "      <th>D</th>\n",
       "    </tr>\n",
       "  </thead>\n",
       "  <tbody>\n",
       "    <tr>\n",
       "      <th>0</th>\n",
       "      <td>1878</td>\n",
       "      <td>55.2</td>\n",
       "      <td>55.3</td>\n",
       "      <td>56.6</td>\n",
       "      <td>58.7</td>\n",
       "      <td>63.3</td>\n",
       "      <td>66.7</td>\n",
       "      <td>69.7</td>\n",
       "      <td>70.6</td>\n",
       "      <td>69.6</td>\n",
       "      <td>64.6</td>\n",
       "      <td>59.2</td>\n",
       "      <td>54.6</td>\n",
       "    </tr>\n",
       "    <tr>\n",
       "      <th>1</th>\n",
       "      <td>1879</td>\n",
       "      <td>52.2</td>\n",
       "      <td>56.0</td>\n",
       "      <td>59.4</td>\n",
       "      <td>60.2</td>\n",
       "      <td>62.0</td>\n",
       "      <td>67.9</td>\n",
       "      <td>68.9</td>\n",
       "      <td>71.8</td>\n",
       "      <td>69.5</td>\n",
       "      <td>65.3</td>\n",
       "      <td>56.6</td>\n",
       "      <td>53.0</td>\n",
       "    </tr>\n",
       "    <tr>\n",
       "      <th>2</th>\n",
       "      <td>1880</td>\n",
       "      <td>52.9</td>\n",
       "      <td>50.8</td>\n",
       "      <td>52.0</td>\n",
       "      <td>57.0</td>\n",
       "      <td>62.6</td>\n",
       "      <td>65.7</td>\n",
       "      <td>66.5</td>\n",
       "      <td>68.6</td>\n",
       "      <td>66.1</td>\n",
       "      <td>63.4</td>\n",
       "      <td>56.1</td>\n",
       "      <td>56.3</td>\n",
       "    </tr>\n",
       "    <tr>\n",
       "      <th>3</th>\n",
       "      <td>1881</td>\n",
       "      <td>52.8</td>\n",
       "      <td>59.3</td>\n",
       "      <td>57.5</td>\n",
       "      <td>62.8</td>\n",
       "      <td>63.9</td>\n",
       "      <td>67.3</td>\n",
       "      <td>71.5</td>\n",
       "      <td>71.4</td>\n",
       "      <td>69.3</td>\n",
       "      <td>61.0</td>\n",
       "      <td>57.2</td>\n",
       "      <td>55.2</td>\n",
       "    </tr>\n",
       "    <tr>\n",
       "      <th>4</th>\n",
       "      <td>1882</td>\n",
       "      <td>49.9</td>\n",
       "      <td>51.0</td>\n",
       "      <td>55.5</td>\n",
       "      <td>57.6</td>\n",
       "      <td>63.7</td>\n",
       "      <td>66.4</td>\n",
       "      <td>71.2</td>\n",
       "      <td>73.2</td>\n",
       "      <td>69.5</td>\n",
       "      <td>63.3</td>\n",
       "      <td>57.7</td>\n",
       "      <td>56.7</td>\n",
       "    </tr>\n",
       "    <tr>\n",
       "      <th>...</th>\n",
       "      <td>...</td>\n",
       "      <td>...</td>\n",
       "      <td>...</td>\n",
       "      <td>...</td>\n",
       "      <td>...</td>\n",
       "      <td>...</td>\n",
       "      <td>...</td>\n",
       "      <td>...</td>\n",
       "      <td>...</td>\n",
       "      <td>...</td>\n",
       "      <td>...</td>\n",
       "      <td>...</td>\n",
       "      <td>...</td>\n",
       "    </tr>\n",
       "    <tr>\n",
       "      <th>138</th>\n",
       "      <td>2016</td>\n",
       "      <td>57.6</td>\n",
       "      <td>64.9</td>\n",
       "      <td>63.2</td>\n",
       "      <td>66.6</td>\n",
       "      <td>65.0</td>\n",
       "      <td>71.3</td>\n",
       "      <td>75.1</td>\n",
       "      <td>73.6</td>\n",
       "      <td>73.7</td>\n",
       "      <td>70.0</td>\n",
       "      <td>65.7</td>\n",
       "      <td>58.6</td>\n",
       "    </tr>\n",
       "    <tr>\n",
       "      <th>139</th>\n",
       "      <td>2017</td>\n",
       "      <td>57.0</td>\n",
       "      <td>59.8</td>\n",
       "      <td>65.5</td>\n",
       "      <td>67.8</td>\n",
       "      <td>67.0</td>\n",
       "      <td>71.4</td>\n",
       "      <td>76.4</td>\n",
       "      <td>76.6</td>\n",
       "      <td>75.2</td>\n",
       "      <td>74.1</td>\n",
       "      <td>66.4</td>\n",
       "      <td>61.0</td>\n",
       "    </tr>\n",
       "    <tr>\n",
       "      <th>140</th>\n",
       "      <td>2018</td>\n",
       "      <td>62.2</td>\n",
       "      <td>59.4</td>\n",
       "      <td>60.1</td>\n",
       "      <td>64.4</td>\n",
       "      <td>64.9</td>\n",
       "      <td>70.1</td>\n",
       "      <td>78.8</td>\n",
       "      <td>78.3</td>\n",
       "      <td>73.4</td>\n",
       "      <td>70.5</td>\n",
       "      <td>65.1</td>\n",
       "      <td>58.9</td>\n",
       "    </tr>\n",
       "    <tr>\n",
       "      <th>141</th>\n",
       "      <td>2019</td>\n",
       "      <td>57.9</td>\n",
       "      <td>54.0</td>\n",
       "      <td>61.1</td>\n",
       "      <td>65.1</td>\n",
       "      <td>63.3</td>\n",
       "      <td>69.3</td>\n",
       "      <td>74.4</td>\n",
       "      <td>75.5</td>\n",
       "      <td>76.3</td>\n",
       "      <td>72.0</td>\n",
       "      <td>64.9</td>\n",
       "      <td>59.4</td>\n",
       "    </tr>\n",
       "    <tr>\n",
       "      <th>142</th>\n",
       "      <td>2020</td>\n",
       "      <td>60.9</td>\n",
       "      <td>62.6</td>\n",
       "      <td>61.3</td>\n",
       "      <td>66.6</td>\n",
       "      <td>70.5</td>\n",
       "      <td>71.3</td>\n",
       "      <td>72.2</td>\n",
       "      <td>76.7</td>\n",
       "      <td>76.2</td>\n",
       "      <td>73.0</td>\n",
       "      <td>62.8</td>\n",
       "      <td>60.0</td>\n",
       "    </tr>\n",
       "  </tbody>\n",
       "</table>\n",
       "<p>143 rows × 13 columns</p>\n",
       "</div>"
      ],
      "text/plain": [
       "     Year    Ja     F     M    Ap    Ma   Jun   Jul    Au     S     O     N  \\\n",
       "0    1878  55.2  55.3  56.6  58.7  63.3  66.7  69.7  70.6  69.6  64.6  59.2   \n",
       "1    1879  52.2  56.0  59.4  60.2  62.0  67.9  68.9  71.8  69.5  65.3  56.6   \n",
       "2    1880  52.9  50.8  52.0  57.0  62.6  65.7  66.5  68.6  66.1  63.4  56.1   \n",
       "3    1881  52.8  59.3  57.5  62.8  63.9  67.3  71.5  71.4  69.3  61.0  57.2   \n",
       "4    1882  49.9  51.0  55.5  57.6  63.7  66.4  71.2  73.2  69.5  63.3  57.7   \n",
       "..    ...   ...   ...   ...   ...   ...   ...   ...   ...   ...   ...   ...   \n",
       "138  2016  57.6  64.9  63.2  66.6  65.0  71.3  75.1  73.6  73.7  70.0  65.7   \n",
       "139  2017  57.0  59.8  65.5  67.8  67.0  71.4  76.4  76.6  75.2  74.1  66.4   \n",
       "140  2018  62.2  59.4  60.1  64.4  64.9  70.1  78.8  78.3  73.4  70.5  65.1   \n",
       "141  2019  57.9  54.0  61.1  65.1  63.3  69.3  74.4  75.5  76.3  72.0  64.9   \n",
       "142  2020  60.9  62.6  61.3  66.6  70.5  71.3  72.2  76.7  76.2  73.0  62.8   \n",
       "\n",
       "        D  \n",
       "0    54.6  \n",
       "1    53.0  \n",
       "2    56.3  \n",
       "3    55.2  \n",
       "4    56.7  \n",
       "..    ...  \n",
       "138  58.6  \n",
       "139  61.0  \n",
       "140  58.9  \n",
       "141  59.4  \n",
       "142  60.0  \n",
       "\n",
       "[143 rows x 13 columns]"
      ]
     },
     "execution_count": 3,
     "metadata": {},
     "output_type": "execute_result"
    }
   ],
   "source": [
    "#read the data using pandas\n",
    "df = pd.read_excel(\"LAmeantempdata.xlsx\")\n",
    "df"
   ]
  },
  {
   "cell_type": "code",
   "execution_count": 4,
   "id": "7a6fb6d4",
   "metadata": {},
   "outputs": [
    {
     "data": {
      "text/plain": [
       "array([1878., 1879., 1880., 1881., 1882., 1883., 1884., 1885., 1886.,\n",
       "       1887., 1888., 1889., 1890., 1891., 1892., 1893., 1894., 1895.,\n",
       "       1896., 1897., 1898., 1899., 1900., 1901., 1902., 1903., 1904.,\n",
       "       1905., 1906., 1907., 1908., 1909., 1910., 1911., 1912., 1913.,\n",
       "       1914., 1915., 1916., 1917., 1918., 1919., 1920., 1921., 1922.,\n",
       "       1923., 1924., 1925., 1926., 1927., 1928., 1929., 1930., 1931.,\n",
       "       1932., 1933., 1934., 1935., 1936., 1937., 1938., 1939., 1940.,\n",
       "       1941., 1942., 1943., 1944., 1945., 1946., 1947., 1948., 1949.,\n",
       "       1950., 1951., 1952., 1953., 1954., 1955., 1956., 1957., 1958.,\n",
       "       1959., 1960., 1961., 1962., 1963., 1964., 1965., 1966., 1967.,\n",
       "       1968., 1969., 1970., 1971., 1972., 1973., 1974., 1975., 1976.,\n",
       "       1977., 1978., 1979., 1980., 1981., 1982., 1983., 1984., 1985.,\n",
       "       1986., 1987., 1988., 1989., 1990., 1991., 1992., 1993., 1994.,\n",
       "       1995., 1996., 1997., 1998., 1999., 2000., 2001., 2002., 2003.,\n",
       "       2004., 2005., 2006., 2007., 2008., 2009., 2010., 2011., 2012.,\n",
       "       2013., 2014., 2015., 2016., 2017., 2018., 2019., 2020.])"
      ]
     },
     "execution_count": 4,
     "metadata": {},
     "output_type": "execute_result"
    },
    {
     "data": {
      "image/png": "[encoded data removed]",
      "text/plain": [
       "<Figure size 432x288 with 1 Axes>"
      ]
     },
     "metadata": {
      "needs_background": "light"
     },
     "output_type": "display_data"
    }
   ],
   "source": [
    "#extract september\n",
    "data=df.to_numpy()\n",
    "SEPT=data[:,9]\n",
    "#extract year\n",
    "year=data[:,0]\n",
    "#plot graph 1\n",
    "plt.plot(year, SEPT)\n",
    "plt.xlabel('year')\n",
    "plt.ylabel('temperature, deg F')\n",
    "plt.show\n",
    "year"
   ]
  },
  {
   "cell_type": "code",
   "execution_count": 5,
   "id": "24c70188",
   "metadata": {},
   "outputs": [
    {
     "data": {
      "image/png": "[encoded data removed]",
      "text/plain": [
       "<Figure size 432x288 with 1 Axes>"
      ]
     },
     "metadata": {
      "needs_background": "light"
     },
     "output_type": "display_data"
    }
   ],
   "source": [
    "#histogram plot\n",
    "bins=np.arange(68,85,1)\n",
    "bins\n",
    "plt.hist(SEPT)\n",
    "plt.xlabel('temperature, deg F')\n",
    "plt.ylabel('data count')\n",
    "plt.show()"
   ]
  },
  {
   "cell_type": "code",
   "execution_count": 8,
   "id": "57178bef",
   "metadata": {},
   "outputs": [
    {
     "data": {
      "text/plain": [
       "Text(0, 0.5, 'temperature, deg F')"
      ]
     },
     "execution_count": 8,
     "metadata": {},
     "output_type": "execute_result"
    },
    {
     "data": {
      "image/png": "[encoded data removed]",
      "text/plain": [
       "<Figure size 432x288 with 1 Axes>"
      ]
     },
     "metadata": {
      "needs_background": "light"
     },
     "output_type": "display_data"
    }
   ],
   "source": [
    "#box plot\n",
    "#plt.boxplot(SEPT)\n",
    "plt.boxplot(data[:,1:])\n",
    "#plt.show()\n",
    "plt.xlabel('month')\n",
    "plt.ylabel('temperature, deg F')"
   ]
  },
  {
   "cell_type": "code",
   "execution_count": null,
   "id": "df3a827f",
   "metadata": {},
   "outputs": [],
   "source": []
  }
 ],
 "metadata": {
  "kernelspec": {
   "display_name": "Python 3",
   "language": "python",
   "name": "python3"
  },
  "language_info": {
   "codemirror_mode": {
    "name": "ipython",
    "version": 3
   },
   "file_extension": ".py",
   "mimetype": "text/x-python",
   "name": "python",
   "nbconvert_exporter": "python",
   "pygments_lexer": "ipython3",
   "version": "3.8.8"
  }
 },
 "nbformat": 4,
 "nbformat_minor": 5
}
